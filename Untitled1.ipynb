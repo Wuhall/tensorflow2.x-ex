{
 "cells": [
  {
   "cell_type": "markdown",
   "id": "6f5b7056",
   "metadata": {},
   "source": [
    "## 常用函数"
   ]
  },
  {
   "cell_type": "code",
   "execution_count": 9,
   "id": "e183f61a",
   "metadata": {},
   "outputs": [],
   "source": [
    "import tensorflow as tf\n",
    "import numpy as np"
   ]
  },
  {
   "cell_type": "markdown",
   "id": "36bb55f2",
   "metadata": {},
   "source": [
    "## 创建一个Tensor(张量，即为n维数组)"
   ]
  },
  {
   "cell_type": "code",
   "execution_count": 11,
   "id": "7fa878b6",
   "metadata": {},
   "outputs": [
    {
     "data": {
      "text/plain": [
       "(<tf.Tensor: shape=(2,), dtype=int64, numpy=array([1, 5])>,\n",
       " tf.int64,\n",
       " TensorShape([2]))"
      ]
     },
     "execution_count": 11,
     "metadata": {},
     "output_type": "execute_result"
    }
   ],
   "source": [
    "a = tf.constant([1, 5], dtype=tf.int64)\n",
    "a, a.dtype, a.shape # 一维张量有两个元素"
   ]
  },
  {
   "cell_type": "code",
   "execution_count": 14,
   "id": "eabd2434",
   "metadata": {},
   "outputs": [
    {
     "data": {
      "text/plain": [
       "(array([0, 1, 2, 3, 4]),\n",
       " <tf.Tensor: shape=(5,), dtype=int64, numpy=array([0, 1, 2, 3, 4])>)"
      ]
     },
     "execution_count": 14,
     "metadata": {},
     "output_type": "execute_result"
    }
   ],
   "source": [
    "# 将numpy的数据类型转换为Tensor数据类型 \n",
    "a = np.arange(0, 5)\n",
    "b = tf.convert_to_tensor(a, dtype=tf.int64)\n",
    "a, b"
   ]
  },
  {
   "cell_type": "code",
   "execution_count": 15,
   "id": "f18853a4",
   "metadata": {},
   "outputs": [
    {
     "data": {
      "text/plain": [
       "(<tf.Tensor: shape=(2, 3), dtype=float32, numpy=\n",
       " array([[0., 0., 0.],\n",
       "        [0., 0., 0.]], dtype=float32)>,\n",
       " <tf.Tensor: shape=(4,), dtype=float32, numpy=array([1., 1., 1., 1.], dtype=float32)>,\n",
       " <tf.Tensor: shape=(2, 2), dtype=int32, numpy=\n",
       " array([[9, 9],\n",
       "        [9, 9]], dtype=int32)>)"
      ]
     },
     "execution_count": 15,
     "metadata": {},
     "output_type": "execute_result"
    }
   ],
   "source": [
    "# 创建全为0的张量\n",
    "a = tf.zeros([2, 3])\n",
    "# 创建全为1的张量\n",
    "b = tf.ones(4)\n",
    "# 创建全为指定值的张量\n",
    "c = tf.fill([2, 2], 9)\n",
    "a, b, c"
   ]
  },
  {
   "cell_type": "markdown",
   "id": "6e738094",
   "metadata": {},
   "source": [
    "## 生成正态分布的随机数\n",
    "tf.random.normal(维度, mean=均值, stddev=标准差)\n",
    "## 生成截断式正态分布的随机数\n",
    "### 与高斯分布有何区别\n",
    "tf.random.truncated_normal(维度， mean=均值, stddev=标准差)\n"
   ]
  },
  {
   "cell_type": "code",
   "execution_count": 16,
   "id": "1dfc5192",
   "metadata": {},
   "outputs": [
    {
     "data": {
      "text/plain": [
       "(<tf.Tensor: shape=(2, 2), dtype=float32, numpy=\n",
       " array([[ 1.3290967 ,  0.05915129],\n",
       "        [-0.6174898 ,  1.6743348 ]], dtype=float32)>,\n",
       " <tf.Tensor: shape=(2, 2), dtype=float32, numpy=\n",
       " array([[-0.8039459 ,  1.94225   ],\n",
       "        [-0.26921147,  0.5097905 ]], dtype=float32)>)"
      ]
     },
     "execution_count": 16,
     "metadata": {},
     "output_type": "execute_result"
    }
   ],
   "source": [
    "d = tf.random.normal([2, 2], mean=0.5, stddev=1)\n",
    "e = tf.random.truncated_normal([2, 2], mean=0.5, stddev=1) # 数据更向均值集中\n",
    "d, e"
   ]
  },
  {
   "cell_type": "markdown",
   "id": "382ab432",
   "metadata": {},
   "source": [
    "## 生成均匀分布随机数【最小值， 最大值】"
   ]
  },
  {
   "cell_type": "code",
   "execution_count": 17,
   "id": "7d886d2b",
   "metadata": {},
   "outputs": [
    {
     "data": {
      "text/plain": [
       "<tf.Tensor: shape=(2, 2), dtype=float32, numpy=\n",
       "array([[0.12964332, 0.62376976],\n",
       "       [0.47907937, 0.30832875]], dtype=float32)>"
      ]
     },
     "execution_count": 17,
     "metadata": {},
     "output_type": "execute_result"
    }
   ],
   "source": [
    "f = tf.random.uniform([2, 2], minval=0, maxval=1)  # 前闭后开区间\n",
    "f"
   ]
  },
  {
   "cell_type": "markdown",
   "id": "66e595a4",
   "metadata": {},
   "source": [
    "## 常用函数"
   ]
  },
  {
   "cell_type": "code",
   "execution_count": 20,
   "id": "7007cfa1",
   "metadata": {},
   "outputs": [
    {
     "data": {
      "text/plain": [
       "(<tf.Tensor: shape=(3,), dtype=float64, numpy=array([1., 2., 3.])>,\n",
       " <tf.Tensor: shape=(3,), dtype=int32, numpy=array([1, 2, 3], dtype=int32)>,\n",
       " <tf.Tensor: shape=(), dtype=int32, numpy=1>,\n",
       " <tf.Tensor: shape=(), dtype=int32, numpy=3>)"
      ]
     },
     "execution_count": 20,
     "metadata": {},
     "output_type": "execute_result"
    }
   ],
   "source": [
    "x1 = tf.constant([1., 2., 3.], dtype=tf.float64)\n",
    "# cast 强制转换为该数据类型\n",
    "x2 = tf.cast(x1, tf.int32)\n",
    "x1, x2, tf.reduce_min(x2), tf.reduce_max(x2)"
   ]
  },
  {
   "cell_type": "markdown",
   "id": "b8b26a28",
   "metadata": {},
   "source": [
    "## 理解axis 控制轴， axis=0 控制行方向， axis=1 控制列方向"
   ]
  },
  {
   "cell_type": "code",
   "execution_count": 23,
   "id": "1d88f38a",
   "metadata": {},
   "outputs": [
    {
     "data": {
      "text/plain": [
       "(<tf.Tensor: shape=(2, 3), dtype=int32, numpy=\n",
       " array([[1, 2, 3],\n",
       "        [2, 2, 3]], dtype=int32)>,\n",
       " <tf.Tensor: shape=(), dtype=int32, numpy=2>,\n",
       " <tf.Tensor: shape=(2,), dtype=int32, numpy=array([2, 2], dtype=int32)>)"
      ]
     },
     "execution_count": 23,
     "metadata": {},
     "output_type": "execute_result"
    }
   ],
   "source": [
    "x = tf.constant([[1, 2, 3],\n",
    "                [2, 2, 3]])\n",
    "x, tf.reduce_mean(x), tf.reduce_mean(x, axis=1)"
   ]
  },
  {
   "cell_type": "code",
   "execution_count": 25,
   "id": "e9016a6d",
   "metadata": {},
   "outputs": [],
   "source": [
    "w = tf.Variable(tf.random.normal([2, 2], mean=0, stddev=1)) # tf.variable 将变量标记为可训练，被标记的变量会在反向传播中记录梯度信息"
   ]
  },
  {
   "cell_type": "markdown",
   "id": "634bf30c",
   "metadata": {},
   "source": [
    "## 数学运算\n",
    "### 对应元素的四则运算 tf.add tf.subtract tf.multiply tf.divide\n",
    "### 平方 次方 开放 tf.square tf.pow tf.sqrt\n",
    "### 矩阵乘 tf.matmul"
   ]
  },
  {
   "cell_type": "code",
   "execution_count": 27,
   "id": "31f66549",
   "metadata": {},
   "outputs": [
    {
     "data": {
      "text/plain": [
       "(<tf.Tensor: shape=(1, 3), dtype=float32, numpy=array([[1., 1., 1.]], dtype=float32)>,\n",
       " <tf.Tensor: shape=(1, 3), dtype=float32, numpy=array([[3., 3., 3.]], dtype=float32)>,\n",
       " <tf.Tensor: shape=(1, 3), dtype=float32, numpy=array([[4., 4., 4.]], dtype=float32)>,\n",
       " <tf.Tensor: shape=(1, 3), dtype=float32, numpy=array([[-2., -2., -2.]], dtype=float32)>,\n",
       " <tf.Tensor: shape=(1, 3), dtype=float32, numpy=array([[3., 3., 3.]], dtype=float32)>,\n",
       " <tf.Tensor: shape=(1, 3), dtype=float32, numpy=array([[0.33333334, 0.33333334, 0.33333334]], dtype=float32)>)"
      ]
     },
     "execution_count": 27,
     "metadata": {},
     "output_type": "execute_result"
    }
   ],
   "source": [
    "# 矩阵加减、按位乘、除\n",
    "a = tf.ones([1, 3])\n",
    "b = tf.fill([1, 3], 3.)\n",
    "a, b, tf.add(a, b), tf.subtract(a, b), tf.multiply(a, b), tf.divide(a, b)"
   ]
  },
  {
   "cell_type": "code",
   "execution_count": 28,
   "id": "15ba230e",
   "metadata": {},
   "outputs": [
    {
     "data": {
      "text/plain": [
       "(<tf.Tensor: shape=(1, 2), dtype=float32, numpy=array([[3., 3.]], dtype=float32)>,\n",
       " <tf.Tensor: shape=(1, 2), dtype=float32, numpy=array([[27., 27.]], dtype=float32)>,\n",
       " <tf.Tensor: shape=(1, 2), dtype=float32, numpy=array([[9., 9.]], dtype=float32)>,\n",
       " <tf.Tensor: shape=(1, 2), dtype=float32, numpy=array([[1.7320508, 1.7320508]], dtype=float32)>)"
      ]
     },
     "execution_count": 28,
     "metadata": {},
     "output_type": "execute_result"
    }
   ],
   "source": [
    "a = tf.fill([1, 2], 3.)\n",
    "# 次方、平方、开方\n",
    "a, tf.pow(a, 3), tf.square(a), tf.sqrt(a)"
   ]
  },
  {
   "cell_type": "code",
   "execution_count": 31,
   "id": "f83b2304",
   "metadata": {},
   "outputs": [
    {
     "data": {
      "text/plain": [
       "(<tf.Tensor: shape=(3, 2), dtype=float32, numpy=\n",
       " array([[1., 1.],\n",
       "        [1., 1.],\n",
       "        [1., 1.]], dtype=float32)>,\n",
       " <tf.Tensor: shape=(2, 3), dtype=float32, numpy=\n",
       " array([[3., 3., 3.],\n",
       "        [3., 3., 3.]], dtype=float32)>,\n",
       " <tf.Tensor: shape=(3, 3), dtype=float32, numpy=\n",
       " array([[6., 6., 6.],\n",
       "        [6., 6., 6.],\n",
       "        [6., 6., 6.]], dtype=float32)>)"
      ]
     },
     "execution_count": 31,
     "metadata": {},
     "output_type": "execute_result"
    }
   ],
   "source": [
    "a = tf.ones([3, 2])\n",
    "b = tf.fill([2, 3], 3.)\n",
    "a, b, tf.matmul(a, b) # 矩阵乘法"
   ]
  },
  {
   "cell_type": "markdown",
   "id": "6a00e271",
   "metadata": {},
   "source": [
    "### tf.data.Dataset.from_tensor_slices((输入特征, 标签)) 切分传入张量的第一维度，生成输入特征以及标签对，构建数据集， numpy以及tensor格式都适用"
   ]
  },
  {
   "cell_type": "code",
   "execution_count": 34,
   "id": "0e1780b1",
   "metadata": {},
   "outputs": [
    {
     "name": "stdout",
     "output_type": "stream",
     "text": [
      "<TensorSliceDataset element_spec=(TensorSpec(shape=(), dtype=tf.int32, name=None), TensorSpec(shape=(), dtype=tf.int32, name=None))>\n",
      "(<tf.Tensor: shape=(), dtype=int32, numpy=12>, <tf.Tensor: shape=(), dtype=int32, numpy=0>)\n",
      "(<tf.Tensor: shape=(), dtype=int32, numpy=23>, <tf.Tensor: shape=(), dtype=int32, numpy=1>)\n",
      "(<tf.Tensor: shape=(), dtype=int32, numpy=10>, <tf.Tensor: shape=(), dtype=int32, numpy=1>)\n",
      "(<tf.Tensor: shape=(), dtype=int32, numpy=17>, <tf.Tensor: shape=(), dtype=int32, numpy=0>)\n"
     ]
    }
   ],
   "source": [
    "features = tf.constant([12, 23, 10, 17])\n",
    "lables = tf.constant([0, 1, 1, 0])\n",
    "dataset = tf.data.Dataset.from_tensor_slices((features, lables))\n",
    "print(dataset)\n",
    "for element in dataset:\n",
    "    print(element)"
   ]
  },
  {
   "cell_type": "markdown",
   "id": "39ed109e",
   "metadata": {},
   "source": [
    "## 求导"
   ]
  },
  {
   "cell_type": "code",
   "execution_count": 36,
   "id": "2a5a4336",
   "metadata": {},
   "outputs": [
    {
     "name": "stdout",
     "output_type": "stream",
     "text": [
      "tf.Tensor(6.0, shape=(), dtype=float32)\n"
     ]
    }
   ],
   "source": [
    "# with结构用来处理可能产生异常的部分\n",
    "with tf.GradientTape() as tape:\n",
    "    w = tf.Variable(tf.constant(3.0))\n",
    "    loss = tf.pow(w, 2)\n",
    "grad = tape.gradient(loss, w) # w的二次方对w求导\n",
    "print(grad)"
   ]
  },
  {
   "cell_type": "markdown",
   "id": "4185a8e1",
   "metadata": {},
   "source": [
    "## 遍历元素(列表、元组、字符串，组合为索引 元素)"
   ]
  },
  {
   "cell_type": "code",
   "execution_count": 37,
   "id": "b475b8fd",
   "metadata": {},
   "outputs": [
    {
     "name": "stdout",
     "output_type": "stream",
     "text": [
      "0 one\n",
      "1 two\n",
      "2 three\n"
     ]
    }
   ],
   "source": [
    "seq = ['one', 'two', 'three']\n",
    "for i, element in enumerate(seq):\n",
    "    print(i, element)"
   ]
  },
  {
   "cell_type": "markdown",
   "id": "d7ed9a25",
   "metadata": {},
   "source": [
    "## 使用独热码作为标签\n",
    "（0狗尾  1杂色 2弗吉尼亚）\n",
    "表示杂色 独热码\n",
    "（0， 1，0）"
   ]
  },
  {
   "cell_type": "code",
   "execution_count": 39,
   "id": "af0d8a47",
   "metadata": {},
   "outputs": [
    {
     "data": {
      "text/plain": [
       "<tf.Tensor: shape=(3, 3), dtype=float32, numpy=\n",
       "array([[0., 1., 0.],\n",
       "       [1., 0., 0.],\n",
       "       [0., 0., 1.]], dtype=float32)>"
      ]
     },
     "execution_count": 39,
     "metadata": {},
     "output_type": "execute_result"
    }
   ],
   "source": [
    "classes = 3\n",
    "lables = tf.constant([1, 0, 2])\n",
    "output = tf.one_hot(lables, depth=classes) #lables待转换数据，depth几分类 ，转换为one-hot形式的数据输出\n",
    "output"
   ]
  },
  {
   "cell_type": "markdown",
   "id": "66838f20",
   "metadata": {},
   "source": [
    "## 使用softmax 函数\n",
    "n个分类的n个输出(y0, y1, ...) 通过softmax函数 概率分布在0和1之间"
   ]
  },
  {
   "cell_type": "code",
   "execution_count": 40,
   "id": "4419edc9",
   "metadata": {},
   "outputs": [
    {
     "data": {
      "text/plain": [
       "<tf.Tensor: shape=(3,), dtype=float32, numpy=array([0.25598174, 0.69583046, 0.04818781], dtype=float32)>"
      ]
     },
     "execution_count": 40,
     "metadata": {},
     "output_type": "execute_result"
    }
   ],
   "source": [
    "y = tf.constant([1.01, 2.01, -0.66])\n",
    "y_pro = tf.nn.softmax(y)\n",
    "y_pro"
   ]
  },
  {
   "cell_type": "markdown",
   "id": "3b12cbc7",
   "metadata": {},
   "source": [
    "## assign_sub\n",
    "赋值操作，更新参数的值并返回\n",
    "调用assign_sub前，先用tf.Variable定义变量w为可训练（可更新）"
   ]
  },
  {
   "cell_type": "code",
   "execution_count": 42,
   "id": "11971ce9",
   "metadata": {},
   "outputs": [
    {
     "data": {
      "text/plain": [
       "<tf.Variable 'Variable:0' shape=() dtype=int32, numpy=3>"
      ]
     },
     "execution_count": 42,
     "metadata": {},
     "output_type": "execute_result"
    }
   ],
   "source": [
    "w = tf.Variable(4)\n",
    "w.assign_sub(1) # 实现w自减1的操作\n",
    "w"
   ]
  },
  {
   "cell_type": "markdown",
   "id": "ad913496",
   "metadata": {},
   "source": [
    "## 返回张量沿指定维度最大值的索引"
   ]
  },
  {
   "cell_type": "code",
   "execution_count": 43,
   "id": "f55d2e10",
   "metadata": {},
   "outputs": [
    {
     "data": {
      "text/plain": [
       "(array([[1, 2, 3],\n",
       "        [2, 3, 4],\n",
       "        [5, 4, 3],\n",
       "        [8, 7, 2]]),\n",
       " <tf.Tensor: shape=(3,), dtype=int64, numpy=array([3, 3, 1])>,\n",
       " <tf.Tensor: shape=(4,), dtype=int64, numpy=array([2, 2, 0, 0])>)"
      ]
     },
     "execution_count": 43,
     "metadata": {},
     "output_type": "execute_result"
    }
   ],
   "source": [
    "test = np.array([[1, 2, 3], [2, 3, 4], [5, 4, 3], [8, 7, 2]])\n",
    "test, tf.argmax(test, axis=0), tf.argmax(test, axis=1) # 返回每一行每一列最大值的索引"
   ]
  },
  {
   "cell_type": "code",
   "execution_count": null,
   "id": "dc4ebb19",
   "metadata": {},
   "outputs": [],
   "source": []
  }
 ],
 "metadata": {
  "kernelspec": {
   "display_name": "tensorflow28",
   "language": "python",
   "name": "tensorflow28"
  },
  "language_info": {
   "codemirror_mode": {
    "name": "ipython",
    "version": 3
   },
   "file_extension": ".py",
   "mimetype": "text/x-python",
   "name": "python",
   "nbconvert_exporter": "python",
   "pygments_lexer": "ipython3",
   "version": "3.8.16"
  }
 },
 "nbformat": 4,
 "nbformat_minor": 5
}
