{
 "cells": [
  {
   "cell_type": "markdown",
   "id": "58cae033",
   "metadata": {},
   "source": [
    "## 神经网络优化过程，使用正则化减少过拟合\n",
    "### 预备知识"
   ]
  },
  {
   "cell_type": "code",
   "execution_count": 25,
   "id": "ac63d6b1",
   "metadata": {},
   "outputs": [],
   "source": [
    "import tensorflow as tf\n",
    "from matplotlib import pyplot as plt\n",
    "import numpy as np\n",
    "import pandas as pd"
   ]
  },
  {
   "cell_type": "code",
   "execution_count": 8,
   "id": "fe556d72",
   "metadata": {},
   "outputs": [
    {
     "data": {
      "text/plain": [
       "<tf.Tensor: shape=(5,), dtype=int32, numpy=array([1, 2, 3, 4, 5], dtype=int32)>"
      ]
     },
     "execution_count": 8,
     "metadata": {},
     "output_type": "execute_result"
    }
   ],
   "source": [
    "# where 语句\n",
    "a = tf.constant([1, 2, 3, 1, 1])\n",
    "b = tf.constant([0, 1, 3, 4, 5])\n",
    "c = tf.where(tf.greater(a, b), a, b) # a、b逐个对比，若a > b ,返回对应位置元素，否则返回b位置对应元素\n",
    "c"
   ]
  },
  {
   "cell_type": "code",
   "execution_count": 7,
   "id": "01513270",
   "metadata": {},
   "outputs": [
    {
     "data": {
      "text/plain": [
       "(0.417022004702574,\n",
       " array([[7.20324493e-01, 1.14374817e-04, 3.02332573e-01],\n",
       "        [1.46755891e-01, 9.23385948e-02, 1.86260211e-01]]))"
      ]
     },
     "execution_count": 7,
     "metadata": {},
     "output_type": "execute_result"
    }
   ],
   "source": [
    "# 返回一个【0， 1】之间的随机数\n",
    "rdm = np.random.RandomState(seed=1) # seed设置固定值 使得每次生成的随机数相同\n",
    "a = rdm.rand() # 返回一个（0，1）之间随机标量\n",
    "b = rdm.rand(2, 3)\n",
    "a, b"
   ]
  },
  {
   "cell_type": "code",
   "execution_count": 9,
   "id": "6609dfa7",
   "metadata": {},
   "outputs": [
    {
     "data": {
      "text/plain": [
       "array([[1, 2, 3],\n",
       "       [4, 5, 6]])"
      ]
     },
     "execution_count": 9,
     "metadata": {},
     "output_type": "execute_result"
    }
   ],
   "source": [
    "# 将两个数组按垂直方向叠加\n",
    "a = np.array([1, 2, 3])\n",
    "b = np.array([4, 5, 6])\n",
    "c = np.vstack((a, b))\n",
    "c"
   ]
  },
  {
   "cell_type": "code",
   "execution_count": 11,
   "id": "aee64755",
   "metadata": {},
   "outputs": [
    {
     "data": {
      "text/plain": [
       "(array([[1., 1., 1., 1.],\n",
       "        [2., 2., 2., 2.]]),\n",
       " array([[2. , 2.5, 3. , 3.5],\n",
       "        [2. , 2.5, 3. , 3.5]]),\n",
       " array([[1. , 2. ],\n",
       "        [1. , 2.5],\n",
       "        [1. , 3. ],\n",
       "        [1. , 3.5],\n",
       "        [2. , 2. ],\n",
       "        [2. , 2.5],\n",
       "        [2. , 3. ],\n",
       "        [2. , 3.5]]))"
      ]
     },
     "execution_count": 11,
     "metadata": {},
     "output_type": "execute_result"
    }
   ],
   "source": [
    "x, y = np.mgrid[1: 3: 1, 2: 4: 0.5]  # 生成网格坐标点 【起始值：结束值：步长， 起始值：结束值：步长】\n",
    "grid = np.c_[x.ravel(), y.ravel()] # ravel 将x变为1维数组， np.c_将返回间隔数值点配对\n",
    "x, y, grid"
   ]
  },
  {
   "cell_type": "markdown",
   "id": "88048ae6",
   "metadata": {},
   "source": [
    "## 指数衰减学习率"
   ]
  },
  {
   "cell_type": "code",
   "execution_count": null,
   "id": "5f9f31e6",
   "metadata": {},
   "outputs": [],
   "source": [
    "# 指数衰减学习率 可以先用较大的学习率，快速得到较优解，然后逐步减小学习率，使模型在训练后期稳定\n",
    "# 指数衰减学习率 = 初始学习率 * 学习率衰减率 ** （当前轮数 / 多少轮衰减一次）\n",
    "LR_BASE = 0.2 \n",
    "LR_DECAY = 0.99\n",
    "LR_STEP = 1\n",
    "lr = LR_BASE * LR_DECAY ** (epoch / LR_STEP)"
   ]
  },
  {
   "cell_type": "markdown",
   "id": "9804b637",
   "metadata": {},
   "source": [
    "## 激活函数"
   ]
  },
  {
   "cell_type": "code",
   "execution_count": null,
   "id": "cf480a3f",
   "metadata": {},
   "outputs": [],
   "source": [
    "# sigmoid: 1 / 1 + exp(- x)\n",
    "# tanh: (1 - exp(-2 * x)) / (1 + exp(2 * x))\n",
    "# relu: max(0, x)"
   ]
  },
  {
   "cell_type": "markdown",
   "id": "e5b4c5ca",
   "metadata": {},
   "source": [
    "## 损失函数，预测与已知答案的差距"
   ]
  },
  {
   "cell_type": "code",
   "execution_count": 5,
   "id": "133dd807",
   "metadata": {},
   "outputs": [
    {
     "data": {
      "text/plain": [
       "<tf.Tensor: shape=(), dtype=float32, numpy=1e-04>"
      ]
     },
     "execution_count": 5,
     "metadata": {},
     "output_type": "execute_result"
    }
   ],
   "source": [
    "y_ = 1\n",
    "y = 1.01\n",
    "# 均方误差\n",
    "loss_mse = tf.reduce_mean(tf.square(y_ - y))\n",
    "loss_mse"
   ]
  },
  {
   "cell_type": "code",
   "execution_count": 12,
   "id": "c826ba3a",
   "metadata": {},
   "outputs": [
    {
     "data": {
      "text/plain": [
       "(TensorShape([32, 2]),\n",
       " <tf.Tensor: shape=(32, 2), dtype=float32, numpy=\n",
       " array([[0.8349432 , 0.11482951],\n",
       "        [0.6689975 , 0.46594986],\n",
       "        [0.60181665, 0.5883841 ],\n",
       "        [0.31836656, 0.20502071],\n",
       "        [0.87043947, 0.02679395],\n",
       "        [0.41539812, 0.4393837 ],\n",
       "        [0.68635684, 0.24833404],\n",
       "        [0.9731523 , 0.6854185 ],\n",
       "        [0.03081617, 0.8947991 ],\n",
       "        [0.24665715, 0.28584862],\n",
       "        [0.31375667, 0.4771835 ],\n",
       "        [0.56689256, 0.7707915 ],\n",
       "        [0.7321604 , 0.35828963],\n",
       "        [0.15724842, 0.94294584],\n",
       "        [0.34933722, 0.8463448 ],\n",
       "        [0.50304055, 0.8129962 ],\n",
       "        [0.23869886, 0.9895604 ],\n",
       "        [0.4636501 , 0.32531095],\n",
       "        [0.36510485, 0.9736552 ],\n",
       "        [0.7335024 , 0.83833015],\n",
       "        [0.6181016 , 0.12580353],\n",
       "        [0.59274817, 0.18779828],\n",
       "        [0.871503  , 0.346795  ],\n",
       "        [0.2588322 , 0.5000293 ],\n",
       "        [0.7569095 , 0.83429825],\n",
       "        [0.2931665 , 0.05646578],\n",
       "        [0.10409134, 0.88235164],\n",
       "        [0.06727785, 0.5778476 ],\n",
       "        [0.38492706, 0.48384792],\n",
       "        [0.6923443 , 0.19687349],\n",
       "        [0.42783493, 0.73416984],\n",
       "        [0.09696069, 0.04883936]], dtype=float32)>,\n",
       " [[0.969797861054287],\n",
       "  [1.1634604857835003],\n",
       "  [1.1942714411690643],\n",
       "  [0.5384488448601839],\n",
       "  [0.8632760602061649],\n",
       "  [0.8339321949148727],\n",
       "  [0.9280893354024469],\n",
       "  [1.6879345369421652],\n",
       "  [0.9036674505700479],\n",
       "  [0.512956535191759],\n",
       "  [0.7844252375973886],\n",
       "  [1.299175094270699],\n",
       "  [1.0919817282657285],\n",
       "  [1.0880495166868347],\n",
       "  [1.1734589741814216],\n",
       "  [1.3098158421478576],\n",
       "  [1.2387201482616108],\n",
       "  [0.8289679938936613],\n",
       "  [1.3550486329517144],\n",
       "  [1.578666175492443],\n",
       "  [0.7524305484165053],\n",
       "  [0.7326318868381032],\n",
       "  [1.2449966435046544],\n",
       "  [0.788097599402105],\n",
       "  [1.5577488607336392],\n",
       "  [0.3889256997930456],\n",
       "  [1.0277860551407527],\n",
       "  [0.6104042277890978],\n",
       "  [0.8594808823356304],\n",
       "  [0.8810757430061307],\n",
       "  [1.1456401959033111],\n",
       "  [0.1907476486033659]])"
      ]
     },
     "execution_count": 12,
     "metadata": {},
     "output_type": "execute_result"
    }
   ],
   "source": [
    "# 造数据集\n",
    "SEED = 23455\n",
    "# 生成（0， 1) 之间随机数\n",
    "rdm = np.random.RandomState(seed=SEED)\n",
    "x = rdm.rand(32, 2)\n",
    "# 加入噪声\n",
    "y_ = [[x1 + x2 + (rdm.rand() / 10.0 - 0.05)] for (x1, x2) in x]\n",
    "x = tf.cast(x, dtype=tf.float32)\n",
    "x.shape, x, y_"
   ]
  },
  {
   "cell_type": "code",
   "execution_count": 14,
   "id": "0a7d8a7d",
   "metadata": {},
   "outputs": [
    {
     "data": {
      "text/plain": [
       "<tf.Variable 'Variable:0' shape=(2, 1) dtype=float32, numpy=\n",
       "array([[1.3587774],\n",
       "       [0.5417413]], dtype=float32)>"
      ]
     },
     "execution_count": 14,
     "metadata": {},
     "output_type": "execute_result"
    }
   ],
   "source": [
    "w1 = tf.Variable(tf.random.normal([2, 1], stddev=1, seed=1))\n",
    "w1"
   ]
  },
  {
   "cell_type": "code",
   "execution_count": 15,
   "id": "3ad02277",
   "metadata": {},
   "outputs": [],
   "source": [
    "epoch = 15000\n",
    "lr = 0.002"
   ]
  },
  {
   "cell_type": "code",
   "execution_count": 17,
   "id": "32a1d231",
   "metadata": {},
   "outputs": [
    {
     "name": "stdout",
     "output_type": "stream",
     "text": [
      "After 0 training steps, w1 is \n",
      "[[1.3587625]\n",
      " [0.5420639]] \n",
      "\n",
      "After 500 training steps, w1 is \n",
      "[[1.3290828]\n",
      " [0.6622308]] \n",
      "\n",
      "After 1000 training steps, w1 is \n",
      "[[1.2821434 ]\n",
      " [0.73504746]] \n",
      "\n",
      "After 1500 training steps, w1 is \n",
      "[[1.236049  ]\n",
      " [0.78612137]] \n",
      "\n",
      "After 2000 training steps, w1 is \n",
      "[[1.1956878]\n",
      " [0.8251068]] \n",
      "\n",
      "After 2500 training steps, w1 is \n",
      "[[1.1617233 ]\n",
      " [0.85610765]] \n",
      "\n",
      "After 3000 training steps, w1 is \n",
      "[[1.1335756 ]\n",
      " [0.88120794]] \n",
      "\n",
      "After 3500 training steps, w1 is \n",
      "[[1.1103905]\n",
      " [0.9016864]] \n",
      "\n",
      "After 4000 training steps, w1 is \n",
      "[[1.0913397 ]\n",
      " [0.91844666]] \n",
      "\n",
      "After 4500 training steps, w1 is \n",
      "[[1.0757021 ]\n",
      " [0.93218184]] \n",
      "\n",
      "After 5000 training steps, w1 is \n",
      "[[1.0628718]\n",
      " [0.9434442]] \n",
      "\n",
      "After 5500 training steps, w1 is \n",
      "[[1.0523463]\n",
      " [0.9526807]] \n",
      "\n",
      "After 6000 training steps, w1 is \n",
      "[[1.0437124]\n",
      " [0.9602566]] \n",
      "\n",
      "After 6500 training steps, w1 is \n",
      "[[1.0366298 ]\n",
      " [0.96647066]] \n",
      "\n",
      "After 7000 training steps, w1 is \n",
      "[[1.0308208]\n",
      " [0.9715677]] \n",
      "\n",
      "After 7500 training steps, w1 is \n",
      "[[1.0260557]\n",
      " [0.9757484]] \n",
      "\n",
      "After 8000 training steps, w1 is \n",
      "[[1.0221469]\n",
      " [0.9791779]] \n",
      "\n",
      "After 8500 training steps, w1 is \n",
      "[[1.0189406 ]\n",
      " [0.98199093]] \n",
      "\n",
      "After 9000 training steps, w1 is \n",
      "[[1.0163113 ]\n",
      " [0.98429817]] \n",
      "\n",
      "After 9500 training steps, w1 is \n",
      "[[1.014154]\n",
      " [0.986191]] \n",
      "\n",
      "After 10000 training steps, w1 is \n",
      "[[1.012385 ]\n",
      " [0.9877431]] \n",
      "\n",
      "After 10500 training steps, w1 is \n",
      "[[1.0109341]\n",
      " [0.9890166]] \n",
      "\n",
      "After 11000 training steps, w1 is \n",
      "[[1.0097439]\n",
      " [0.9900609]] \n",
      "\n",
      "After 11500 training steps, w1 is \n",
      "[[1.0087675]\n",
      " [0.9909172]] \n",
      "\n",
      "After 12000 training steps, w1 is \n",
      "[[1.0079672]\n",
      " [0.99162  ]] \n",
      "\n",
      "After 12500 training steps, w1 is \n",
      "[[1.0073111]\n",
      " [0.9921967]] \n",
      "\n",
      "After 13000 training steps, w1 is \n",
      "[[1.0067729 ]\n",
      " [0.99266857]] \n",
      "\n",
      "After 13500 training steps, w1 is \n",
      "[[1.0063303 ]\n",
      " [0.99305546]] \n",
      "\n",
      "After 14000 training steps, w1 is \n",
      "[[1.0059646]\n",
      " [0.9933737]] \n",
      "\n",
      "After 14500 training steps, w1 is \n",
      "[[1.0056677]\n",
      " [0.9936327]] \n",
      "\n",
      "Final w1 is: [[1.0054297 ]\n",
      " [0.99384755]]\n"
     ]
    }
   ],
   "source": [
    "for epoch in range(epoch):\n",
    "    with tf.GradientTape() as tape:\n",
    "        y = tf.matmul(x, w1)\n",
    "        # 均方误差\n",
    "        loss_mse = tf.reduce_mean(tf.square(y_ - y))\n",
    "        \n",
    "    grads = tape.gradient(loss_mse, w1)\n",
    "    # 更新w1\n",
    "    w1.assign_sub(lr * grads)\n",
    "    \n",
    "    if epoch % 500 == 0:\n",
    "        print(\"After %d training steps, w1 is \" %(epoch))\n",
    "        print(w1.numpy(), \"\\n\")\n",
    "\n",
    "print(\"Final w1 is:\", w1.numpy())"
   ]
  },
  {
   "cell_type": "code",
   "execution_count": 18,
   "id": "b8528f75",
   "metadata": {},
   "outputs": [],
   "source": [
    "# 误差分析 w1[0] w1[1] 均趋近于1 这与 y_ = x1 + x2 + bias 接近"
   ]
  },
  {
   "cell_type": "code",
   "execution_count": 19,
   "id": "6dba8fa5",
   "metadata": {},
   "outputs": [],
   "source": [
    "# 分段自定义误差\n",
    "# 预测多了损失成本，预测少了损失利润\n",
    "# loss = tf.reduce_sum(tf.where(tf.greater(y, y_), (y - y_) * COST, (y_ - y) * PROFIT))"
   ]
  },
  {
   "cell_type": "code",
   "execution_count": 21,
   "id": "fc43592f",
   "metadata": {},
   "outputs": [
    {
     "data": {
      "text/plain": [
       "<tf.Tensor: shape=(), dtype=float32, numpy=0.5108256>"
      ]
     },
     "execution_count": 21,
     "metadata": {},
     "output_type": "execute_result"
    }
   ],
   "source": [
    "# 交叉熵损失函数，表征两个概率分布的距离\n",
    "y_ = [1, 0]\n",
    "y = [0.6, 0.4]\n",
    "loss_ce1 = tf.losses.categorical_crossentropy(y_, y)\n",
    "loss_ce1"
   ]
  },
  {
   "cell_type": "code",
   "execution_count": 24,
   "id": "02ef4074",
   "metadata": {},
   "outputs": [
    {
     "data": {
      "text/plain": [
       "(<tf.Tensor: shape=(4,), dtype=float64, numpy=array([1.68795487e-04, 1.03475622e-03, 4.06588390e+00, 8.34920680e-02])>,\n",
       " <tf.Tensor: shape=(4,), dtype=float64, numpy=array([1.68795487e-04, 1.03475622e-03, 4.06588390e+00, 8.34920680e-02])>)"
      ]
     },
     "execution_count": 24,
     "metadata": {},
     "output_type": "execute_result"
    }
   ],
   "source": [
    "# 真实使用场景中，往往先使用softmax使其符合概率分布后于交叉熵结合\n",
    "y_ = np.array([[1, 0, 0], [0, 1, 0], [1, 0, 0], [0, 1, 0]])\n",
    "y = np.array([[12, 3, 2], [3, 10, 1], [1, 2, 5], [4, 6.5, 1.2]])\n",
    "y_pro = tf.nn.softmax(y)\n",
    "loss_ce1 = tf.losses.categorical_crossentropy(y_, y_pro)\n",
    "# softmax与交叉熵结合\n",
    "loss_ce2 = tf.nn.softmax_cross_entropy_with_logits(y_, y)\n",
    "loss_ce1, loss_ce2"
   ]
  },
  {
   "cell_type": "markdown",
   "id": "91faca27",
   "metadata": {},
   "source": [
    "## L2正则化 解决过拟合"
   ]
  },
  {
   "cell_type": "code",
   "execution_count": 49,
   "id": "fb181a12",
   "metadata": {},
   "outputs": [
    {
     "name": "stdout",
     "output_type": "stream",
     "text": [
      "x_data, y_data 维度： (300, 2) (300,)\n",
      "x_train, y_train 维度： (300, 2) (300, 1)\n",
      "epoch: 0 loss: 1.7954307794570923\n",
      "epoch: 20 loss: 0.7018105387687683\n",
      "epoch: 40 loss: 0.4758337438106537\n",
      "epoch: 60 loss: 0.39231327176094055\n",
      "epoch: 80 loss: 0.3532618582248688\n",
      "epoch: 100 loss: 0.3272266089916229\n",
      "epoch: 120 loss: 0.304895281791687\n",
      "epoch: 140 loss: 0.28582069277763367\n",
      "epoch: 160 loss: 0.2664354741573334\n",
      "epoch: 180 loss: 0.24874591827392578\n",
      "epoch: 200 loss: 0.23302023112773895\n",
      "epoch: 220 loss: 0.2182236909866333\n",
      "epoch: 240 loss: 0.20442649722099304\n",
      "epoch: 260 loss: 0.19266800582408905\n",
      "epoch: 280 loss: 0.18198329210281372\n",
      "epoch: 300 loss: 0.17226475477218628\n",
      "epoch: 320 loss: 0.1640562117099762\n",
      "epoch: 340 loss: 0.15752869844436646\n",
      "epoch: 360 loss: 0.15146850049495697\n",
      "epoch: 380 loss: 0.1460048109292984\n",
      "epoch: 400 loss: 0.14091971516609192\n",
      "epoch: 420 loss: 0.13629016280174255\n",
      "epoch: 440 loss: 0.13199226558208466\n",
      "epoch: 460 loss: 0.12793028354644775\n",
      "epoch: 480 loss: 0.12418736517429352\n",
      "epoch: 500 loss: 0.12056214362382889\n",
      "epoch: 520 loss: 0.11725665628910065\n",
      "epoch: 540 loss: 0.11419208347797394\n",
      "epoch: 560 loss: 0.1113109141588211\n",
      "epoch: 580 loss: 0.10863146185874939\n",
      "epoch: 600 loss: 0.10614300519227982\n",
      "epoch: 620 loss: 0.10391922295093536\n",
      "epoch: 640 loss: 0.10188809782266617\n",
      "epoch: 660 loss: 0.10001581162214279\n",
      "epoch: 680 loss: 0.09828666597604752\n",
      "epoch: 700 loss: 0.0967080295085907\n",
      "epoch: 720 loss: 0.09518495947122574\n",
      "epoch: 740 loss: 0.09379878640174866\n",
      "epoch: 760 loss: 0.09252452105283737\n",
      "epoch: 780 loss: 0.09133923798799515\n"
     ]
    }
   ],
   "source": [
    "# 读取数据集\n",
    "df = pd.read_csv('./dataset/dot.csv')\n",
    "x_data = np.array(df[['x1', 'x2']])\n",
    "y_data = np.array(df['y_c'])\n",
    "print('x_data, y_data 维度：', x_data.shape, y_data.shape)\n",
    "\n",
    "# 将两个向量按垂直维度相加\n",
    "x_train = np.vstack(x_data).reshape(-1, 2)\n",
    "y_train = np.vstack(y_data).reshape(-1, 1)\n",
    "print('x_train, y_train 维度：', x_train.shape, y_train.shape)\n",
    "\n",
    "Y_c = [['red' if y else 'blue'] for y in y_train]\n",
    "\n",
    "# 类型转换，防止后面矩阵相乘因数据类型报错\n",
    "x_train = tf.cast(x_train, tf.float32)\n",
    "y_train = tf.cast(y_train, tf.float32)\n",
    "\n",
    "# 数据集\n",
    "train_db = tf.data.Dataset.from_tensor_slices((x_train, y_train)).batch(32)\n",
    "\n",
    "# 神经网络参数，输入层特征为2，隐藏层为11个神经元，1层隐藏层，输出层为1个神经元\n",
    "w1 = tf.Variable(tf.random.normal([2, 11], dtype=tf.float32))\n",
    "b1 = tf.Variable(tf.constant(0.01, shape=[11]))\n",
    "\n",
    "w2 = tf.Variable(tf.random.normal([11, 1], dtype=tf.float32))\n",
    "b2 = tf.Variable(tf.constant(0.01, shape=[1]))\n",
    "\n",
    "lr = 0.005\n",
    "epoch = 800\n",
    "\n",
    "# train\n",
    "for epoch in range(epoch):\n",
    "    for step, (x_train, y_train) in enumerate(train_db):\n",
    "        with tf.GradientTape() as tape:\n",
    "            h1 = tf.matmul(x_train, w1) + b1\n",
    "            # 激活函数\n",
    "            h1 = tf.nn.relu(h1)\n",
    "            # 输出\n",
    "            y = tf.matmul(h1, w2) + b2\n",
    "            # 均方误差\n",
    "            loss_mse = tf.reduce_mean(tf.square(y_train - y))\n",
    "            # L2 正则化\n",
    "            loss_regularization = []\n",
    "            # tf.nn.l2_loss(w) = sum(w ** 2) / 2\n",
    "            loss_regularization.append(tf.nn.l2_loss(w1))\n",
    "            loss_regularization.append(tf.nn.l2_loss(w2))\n",
    "            # 求和\n",
    "            # 例：x=tf.constant(([1,1,1],[1,1,1]))\n",
    "            #   tf.reduce_sum(x)\n",
    "            # >>>6\n",
    "            loss_regularization = tf.reduce_sum(loss_regularization)\n",
    "            loss = loss_mse + 0.03 * loss_regularization  # REGULARIZER = 0.03\n",
    "            \n",
    "        # 计算loss对各个参数的梯度\n",
    "        variables = [w1, b1, w2, b2]\n",
    "        grads = tape.gradient(loss, variables)\n",
    "        \n",
    "        # 实现梯度更新\n",
    "        # w1 = w1 - lr * w1_grad tape.gradient是自动求导结果与【w1，b1， w2，b2】\n",
    "        # 索引为0， 1，2, 3\n",
    "        w1.assign_sub(lr * grads[0])\n",
    "        b1.assign_sub(lr * grads[1])\n",
    "        w2.assign_sub(lr * grads[2])\n",
    "        b2.assign_sub(lr * grads[3])\n",
    "    \n",
    "    # 每20个epoch，打印loss信息\n",
    "    if epoch % 20 == 0:\n",
    "        print('epoch:', epoch, 'loss:', float(loss))"
   ]
  },
  {
   "cell_type": "code",
   "execution_count": 50,
   "id": "154bd494",
   "metadata": {},
   "outputs": [
    {
     "name": "stdout",
     "output_type": "stream",
     "text": [
      "**************predict**********************\n"
     ]
    },
    {
     "data": {
      "image/png": "[encoded data removed]",
      "text/plain": [
       "<Figure size 640x480 with 1 Axes>"
      ]
     },
     "metadata": {},
     "output_type": "display_data"
    }
   ],
   "source": [
    "# 预测部分\n",
    "print('**************predict**********************')\n",
    "# xx 在-3 到3之间以步长为0.01 ，yy在-3到3之间以步长0.01，生成间隔数值\n",
    "xx, yy = np.mgrid[-3:3:.1, -3:3:.1]\n",
    "# 将xx, yy拉直，并合并配对为二维张量，生成二维坐标点\n",
    "grid = np.c_[xx.ravel(), yy.ravel()]\n",
    "grid = tf.cast(grid, tf.float32)\n",
    "\n",
    "# 将网格坐标点喂入神经网络，进行预测，probs为输出\n",
    "probs = []\n",
    "for x_test in grid:\n",
    "    # 使用训练好的参数进行预测\n",
    "    h1 = tf.matmul([x_test], w1) + b1\n",
    "    h1 = tf.nn.relu(h1)\n",
    "    # y为预测结果\n",
    "    y = tf.matmul(h1, w2) + b2\n",
    "    probs.append(y)\n",
    "\n",
    "# 取第0列给x1，取第1列给x2\n",
    "x1 = x_data[:, 0]\n",
    "x2 = x_data[:, 1]\n",
    "\n",
    "# probs的shape调整成xx的样子\n",
    "probs = np.array(probs).reshape(xx.shape)\n",
    "plt.scatter(x1, x2, color=np.squeeze(Y_c))\n",
    "plt.contour(xx, yy, probs, levels=[.5])\n",
    "plt.show()"
   ]
  },
  {
   "cell_type": "code",
   "execution_count": null,
   "id": "51d06af2",
   "metadata": {},
   "outputs": [],
   "source": []
  }
 ],
 "metadata": {
  "kernelspec": {
   "display_name": "tensorflow28",
   "language": "python",
   "name": "tensorflow28"
  },
  "language_info": {
   "codemirror_mode": {
    "name": "ipython",
    "version": 3
   },
   "file_extension": ".py",
   "mimetype": "text/x-python",
   "name": "python",
   "nbconvert_exporter": "python",
   "pygments_lexer": "ipython3",
   "version": "3.8.16"
  }
 },
 "nbformat": 4,
 "nbformat_minor": 5
}
