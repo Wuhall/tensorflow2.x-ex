{
 "cells": [
  {
   "cell_type": "markdown",
   "id": "97c12224",
   "metadata": {},
   "source": [
    "# 基于tensorflow2.8\n",
    "pip install tensorflow==2.8.0 -i https://pypi.doubanio.com/simple/   \n",
    "源码及数据集下载 https://pan.baidu.com/s/19XC28Hz_TwnSQeuVifg1UQ 提取码：mocm\n",
    "## 1 常用函数\n",
    "## 2 数据集的使用\n",
    "## 3 单层神经网络 \n",
    "单层神经网络搭建以及SGD SGDM RMSprop Adam 梯度下降算法\n",
    "## 4 神经网络优化\n",
    "正则化减少过拟合、指数衰减加快学习速率\n",
    "## 5 搭建神经网络八股\n",
    "iris\\MNIST\\Fashion 数据集\n",
    "## 6 神经网络八股补充\n",
    "自制数据集\n",
    "数据增强\n",
    "断点续训 \n",
    "参数提取 \n",
    "绘图识物\n",
    "## 7 卷积神经网络搭建\n",
    "搭建实例 实现LeNet、AlexNet、VGGNet、InceptionNet、ResNet五个经典卷积网络"
   ]
  },
  {
   "cell_type": "code",
   "execution_count": null,
   "id": "0e02e16d",
   "metadata": {},
   "outputs": [],
   "source": []
  }
 ],
 "metadata": {
  "kernelspec": {
   "display_name": "tensorflow28",
   "language": "python",
   "name": "tensorflow28"
  },
  "language_info": {
   "codemirror_mode": {
    "name": "ipython",
    "version": 3
   },
   "file_extension": ".py",
   "mimetype": "text/x-python",
   "name": "python",
   "nbconvert_exporter": "python",
   "pygments_lexer": "ipython3",
   "version": "3.8.16"
  }
 },
 "nbformat": 4,
 "nbformat_minor": 5
}
